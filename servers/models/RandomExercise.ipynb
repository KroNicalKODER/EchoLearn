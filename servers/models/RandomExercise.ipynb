{
 "cells": [
  {
   "cell_type": "code",
   "execution_count": 4,
   "metadata": {},
   "outputs": [
    {
     "name": "stderr",
     "output_type": "stream",
     "text": [
      "C:\\Users\\mradu\\AppData\\Local\\Temp\\ipykernel_11816\\2047278761.py:3: LangChainDeprecationWarning: The class `Ollama` was deprecated in LangChain 0.3.1 and will be removed in 1.0.0. An updated version of the class exists in the :class:`~langchain-ollama package and should be used instead. To use it run `pip install -U :class:`~langchain-ollama` and import as `from :class:`~langchain_ollama import OllamaLLM``.\n",
      "  llama = Ollama(model=\"llama3.2\")\n"
     ]
    },
    {
     "data": {
      "text/plain": [
       "Ollama(model='llama3.2')"
      ]
     },
     "execution_count": 4,
     "metadata": {},
     "output_type": "execute_result"
    }
   ],
   "source": [
    "from langchain.llms import Ollama\n",
    "\n",
    "llama = Ollama(model=\"llama3.2\")\n",
    "\n",
    "llama"
   ]
  },
  {
   "cell_type": "code",
   "execution_count": 10,
   "metadata": {},
   "outputs": [
    {
     "data": {
      "text/plain": [
       "[SystemMessage(content='You are a helpful assistant that translates English to Hindi.', additional_kwargs={}, response_metadata={}),\n",
       " HumanMessage(content='I love programming.', additional_kwargs={}, response_metadata={})]"
      ]
     },
     "execution_count": 10,
     "metadata": {},
     "output_type": "execute_result"
    }
   ],
   "source": [
    "from langchain_core.prompts import ChatPromptTemplate\n",
    "\n",
    "prompt = ChatPromptTemplate.from_messages([\n",
    "    (\"system\", \"You are a helpful assistant that translates {input_language} to {output_language}.\"),\n",
    "    (\"human\", \"{text}\"),\n",
    "])\n",
    "\n",
    "prompt = prompt.format_messages(input_language=\"English\", output_language=\"Hindi\", text=\"I love programming.\")\n",
    "\n",
    "prompt"
   ]
  },
  {
   "cell_type": "code",
   "execution_count": 11,
   "metadata": {},
   "outputs": [
    {
     "data": {
      "text/plain": [
       "'मैं प्रोग्रामिंग से बहुत प्यार करता हूँ। (Main programing se bahut pyar karta hoon.)'"
      ]
     },
     "execution_count": 11,
     "metadata": {},
     "output_type": "execute_result"
    }
   ],
   "source": [
    "# Get the Response from the model\n",
    "\n",
    "response = llama.invoke(\n",
    "    prompt,\n",
    "    max_tokens=100,\n",
    "    temperature=0.5,\n",
    "    top_p=0.95,\n",
    "    top_k=50,\n",
    "    repetition_penalty=1.0,\n",
    "    stop=[\"<|endoftext|>\"]\n",
    ")\n",
    "\n",
    "response"
   ]
  },
  {
   "cell_type": "code",
   "execution_count": 21,
   "metadata": {},
   "outputs": [
    {
     "data": {
      "text/plain": [
       "[SystemMessage(content='You are an expert language teacher give an abstract as a random exercise to a person on the topic of Elon Musk and in a casual tone.\\n        Remember this is abstract is for the reading exercise and should be short and to the point.\\n        Also the user is scored 80 out of 100. So, give the difficulty of the exercise based on the score.\\n        Just generate the abstract for the reading and nothing else. Also, if the topic or tone is out of the context then just say \"I don\\'t know\".\\n        The abstract should be approximatelt of 150 words.\\n     ', additional_kwargs={}, response_metadata={}),\n",
       " HumanMessage(content='', additional_kwargs={}, response_metadata={})]"
      ]
     },
     "execution_count": 21,
     "metadata": {},
     "output_type": "execute_result"
    }
   ],
   "source": [
    "prompt_give_speech = ChatPromptTemplate.from_messages([\n",
    "    (\"system\", \"\"\"You are an expert language teacher give an abstract as a random exercise to a person on the topic of {topic} and in a {tone} tone.\n",
    "        Remember this is abstract is for the reading exercise and should be short and to the point.\n",
    "        Also the user is scored {current_score} out of 100. So, give the difficulty of the exercise based on the score.\n",
    "        Just generate the abstract for the reading and nothing else. Also, if the topic or tone is out of the context then just say \"I don't know\".\n",
    "        The abstract should be approximatelt of 150 words.\n",
    "     \"\"\"),\n",
    "    (\"user\", \"{custom}\"),\n",
    "])\n",
    "\n",
    "prompt_give_speech = prompt_give_speech.format_messages(topic=\"Elon Musk\", tone=\"casual\", custom=\"\", current_score=80)\n",
    "\n",
    "prompt_give_speech\n"
   ]
  },
  {
   "cell_type": "code",
   "execution_count": 22,
   "metadata": {},
   "outputs": [
    {
     "data": {
      "text/plain": [
       "\"**Reading Exercise**\\n\\nElon Musk: A Visionary's Journey\\n\\nElon Musk is a name synonymous with innovation and disruption in the modern era. Born in South Africa, Musk's entrepreneurial spirit was evident from an early age. After moving to Canada and eventually the United States, he co-founded his first company, Zip2, which provided online content publishing software for news organizations.\\n\\nMusk's next venture, X.com, would later become PayPal, which was acquired by eBay for $1.5 billion. However, it was SpaceX that catapulted Musk into the stratosphere of innovation, with its reusable rockets and ambitious plans to colonize Mars.\\n\\nTesla, Inc., another company co-founded by Musk, has revolutionized the electric vehicle market, making sustainable energy accessible to a wider audience. Through his vision and perseverance, Elon Musk has become a polarizing figure, with supporters lauding his innovative spirit and critics questioning his leadership and ethics. This essay will delve into Musk's life, career, and impact on society.\\n\\n**Difficulty Level: 3/5**\""
      ]
     },
     "execution_count": 22,
     "metadata": {},
     "output_type": "execute_result"
    }
   ],
   "source": [
    "response_speech = llama.invoke(\n",
    "    prompt_give_speech,\n",
    "    max_tokens=500,\n",
    "    temperature=0.7,\n",
    "    top_k=50,\n",
    "    top_p=0.95,\n",
    "    repetition_penalty=1.2,\n",
    ")\n",
    "\n",
    "response_speech"
   ]
  }
 ],
 "metadata": {
  "kernelspec": {
   "display_name": "Python 3",
   "language": "python",
   "name": "python3"
  },
  "language_info": {
   "codemirror_mode": {
    "name": "ipython",
    "version": 3
   },
   "file_extension": ".py",
   "mimetype": "text/x-python",
   "name": "python",
   "nbconvert_exporter": "python",
   "pygments_lexer": "ipython3",
   "version": "3.12.9"
  }
 },
 "nbformat": 4,
 "nbformat_minor": 2
}
